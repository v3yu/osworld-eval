{
 "cells": [
  {
   "cell_type": "code",
   "execution_count": 20,
   "id": "8dd76cb2",
   "metadata": {},
   "outputs": [],
   "source": [
    "import re\n",
    "\n",
    "def extract_success_rate(log_content):\n",
    "    # Find all result lines with PASS or FAIL\n",
    "    results = re.findall(r\"\\[Result\\] \\((PASS|FAIL)\\) (.+?)$\", log_content, re.MULTILINE)\n",
    "    \n",
    "    # Count the total and successful tasks\n",
    "    total_tasks = len(results)\n",
    "    successful_tasks = sum(1 for status, _ in results if status == \"PASS\")\n",
    "    first_50_tasks = sum(1 for status, _ in results[:50] if status == \"PASS\")\n",
    "    successful_1hop_tasks = sum(1 for status, _ in results[:200] if status == \"PASS\")\n",
    "    successful_2hop_tasks = sum(1 for status, _ in results[200:] if status == \"PASS\")\n",
    "    \n",
    "    # Calculate success rate for each task and overall\n",
    "    task_success = {}\n",
    "    for status, task_path in results:\n",
    "        task_success[task_path] = 1 if status == \"PASS\" else 0\n",
    "    \n",
    "    # Calculate average success rate\n",
    "    average_success_rate = successful_tasks / total_tasks if total_tasks > 0 else 0\n",
    "    average_50_success_rate = first_50_tasks / 50 if total_tasks > 0 else 0\n",
    "    average_1hop_success_rate = successful_1hop_tasks / 200 if total_tasks > 0 else 0\n",
    "    average_2hop_success_rate = successful_2hop_tasks / (total_tasks - 200) if total_tasks > 200 else 0\n",
    "    \n",
    "    # print(f\"Average 50 Success Rate: {average_50_success_rate:.2%} (Tasks: {first_50_tasks}/50)\")\n",
    "    # print(f\"Average 1-hop Success Rate: {average_1hop_success_rate:.2%} (Tasks: {successful_1hop_tasks}/200)\")\n",
    "    # print(f\"Average 2-hop Success Rate: {average_2hop_success_rate:.2%} (Tasks: {successful_2hop_tasks}/{total_tasks - 200})\")\n",
    "    print(f\"Average Overall Success Rate: {average_success_rate:.2%} (Tasks: {successful_tasks}/{total_tasks})\")"
   ]
  },
  {
   "cell_type": "code",
   "execution_count": 29,
   "id": "0ef36876",
   "metadata": {},
   "outputs": [
    {
     "name": "stdout",
     "output_type": "stream",
     "text": [
      "-------------- Wikipedia --------------\n",
      "Average 100 Success Rate: 38.00% (Tasks: 38/100)\n",
      "Average 1-hop Success Rate: 35.00% (Tasks: 70/200)\n",
      "Average 2-hop Success Rate: 7.41% (Tasks: 8/108)\n",
      "Average Overall Success Rate: 25.32% (Tasks: 78/308)\n",
      "-------------- Shopping --------------\n",
      "Average 100 Success Rate: 4.00% (Tasks: 4/100)\n",
      "Average 1-hop Success Rate: 5.50% (Tasks: 11/200)\n",
      "Average 2-hop Success Rate: 0.00% (Tasks: 0/0)\n",
      "Average Overall Success Rate: 5.50% (Tasks: 11/200)\n",
      "-------------- Shopping (with caption)--------------\n",
      "Average 100 Success Rate: 13.00% (Tasks: 13/100)\n",
      "Average 1-hop Success Rate: 16.00% (Tasks: 32/200)\n",
      "Average 2-hop Success Rate: 0.00% (Tasks: 0/0)\n",
      "Average Overall Success Rate: 16.00% (Tasks: 32/200)\n",
      "-------------- Compare --------------\n",
      "Average 100 Success Rate: 0.00% (Tasks: 0/100)\n",
      "Average 1-hop Success Rate: 0.00% (Tasks: 0/200)\n",
      "Average 2-hop Success Rate: 0.00% (Tasks: 0/-104)\n",
      "Average Overall Success Rate: 0.00% (Tasks: 0/96)\n"
     ]
    }
   ],
   "source": [
    "# Qwen2.5-VL original\n",
    "print(\"-------------- Wikipedia --------------\")\n",
    "with open(\"/lustre/scratch/users/guangyi.liu/agent/GUI-Agent/log_files/log_20250807_010624.log\", 'r') as file:\n",
    "    log_content = file.read()\n",
    "extract_success_rate(log_content)\n",
    "print(\"-------------- Shopping --------------\")\n",
    "with open(\"/lustre/scratch/users/guangyi.liu/agent/GUI-Agent/log_files/log_20250811_042607.log\", 'r') as file:\n",
    "    log_content = file.read()\n",
    "extract_success_rate(log_content)\n",
    "print(\"-------------- Shopping (with caption)--------------\")\n",
    "with open(\"/lustre/scratch/users/guangyi.liu/agent/GUI-Agent/log_files/log_20250812_005024.log\", 'r') as file:\n",
    "    log_content = file.read()\n",
    "extract_success_rate(log_content)\n",
    "print(\"-------------- Compare --------------\")\n",
    "with open(\"/lustre/scratch/users/guangyi.liu/agent/GUI-Agent/log_files/log_20250812_005442.log\", 'r') as file:\n",
    "    log_content = file.read()\n",
    "extract_success_rate(log_content)"
   ]
  },
  {
   "cell_type": "code",
   "execution_count": null,
   "id": "1cead3a6",
   "metadata": {},
   "outputs": [
    {
     "name": "stdout",
     "output_type": "stream",
     "text": [
      "Average 1-hop Success Rate: 30.50% (Tasks: 61/200)\n",
      "Average 2-hop Success Rate: 8.33% (Tasks: 9/108)\n",
      "Average Overall Success Rate: 22.73% (Tasks: 70/308)\n"
     ]
    }
   ],
   "source": [
    "# Qwen2.5-VL with self-plan\n",
    "with open(\"/lustre/scratch/users/guangyi.liu/agent/GUI-Agent/log_files/log_20250808_005545.log\", 'r') as file:\n",
    "    log_content = file.read()\n",
    "extract_success_rate(log_content)"
   ]
  },
  {
   "cell_type": "code",
   "execution_count": 4,
   "id": "2bfe5791",
   "metadata": {},
   "outputs": [
    {
     "name": "stdout",
     "output_type": "stream",
     "text": [
      "Average 1-hop Success Rate: 32.50% (Tasks: 65/200)\n",
      "Average 2-hop Success Rate: 7.41% (Tasks: 8/108)\n",
      "Average Overall Success Rate: 23.70% (Tasks: 73/308)\n"
     ]
    }
   ],
   "source": [
    "# Qwen2.5-VL with self-plan-subtask\n",
    "with open(\"/lustre/scratch/users/guangyi.liu/agent/GUI-Agent/log_files/log_20250808_073629.log\", 'r') as file:\n",
    "    log_content = file.read()\n",
    "extract_success_rate(log_content)"
   ]
  },
  {
   "cell_type": "code",
   "execution_count": null,
   "id": "9b3a5cab",
   "metadata": {},
   "outputs": [
    {
     "name": "stdout",
     "output_type": "stream",
     "text": [
      "Average 100 Success Rate: 53.00% (Tasks: 53/100)\n",
      "Average 1-hop Success Rate: 27.50% (Tasks: 55/200)\n",
      "Average 2-hop Success Rate: 0.00% (Tasks: 0/-96)\n",
      "Average Overall Success Rate: 52.88% (Tasks: 55/104)\n"
     ]
    }
   ],
   "source": [
    "# Qwen2.5-VL original with additional tools \n",
    "with open(\"/lustre/scratch/users/guangyi.liu/agent/GUI-Agent/log_files/log_20250810_110847.log\", 'r') as file:\n",
    "    log_content = file.read()\n",
    "extract_success_rate(log_content)"
   ]
  },
  {
   "cell_type": "code",
   "execution_count": 21,
   "id": "dfaa38f8",
   "metadata": {},
   "outputs": [
    {
     "name": "stdout",
     "output_type": "stream",
     "text": [
      "Average Overall Success Rate: 26.83% (Tasks: 11/41)\n"
     ]
    }
   ],
   "source": [
    "\n",
    "with open(\"/lustre/scratch/users/guangyi.liu/agent/GUI-Agent/log_files/log_20250817_154105.log\", 'r') as file:\n",
    "    log_content = file.read()\n",
    "extract_success_rate(log_content)"
   ]
  },
  {
   "cell_type": "code",
   "execution_count": 20,
   "id": "b8afe0db",
   "metadata": {},
   "outputs": [],
   "source": [
    "import os \n",
    "import json\n",
    "\n",
    "for file in os.listdir(\"/lustre/scratch/users/guangyi.liu/agent/GUI-Agent/mmina/multi567\"):\n",
    "    with open(f\"/lustre/scratch/users/guangyi.liu/agent/GUI-Agent/mmina/multi567/{file}\", 'r') as f:\n",
    "        data = json.load(f)\n",
    "    data['start_url'] = \"https://www.wikipedia.org/\"\n",
    "    with open(f\"/lustre/scratch/users/guangyi.liu/agent/GUI-Agent/mmina/multi567/{file}\", 'w') as f:\n",
    "        json.dump(data, f, indent=4)"
   ]
  },
  {
   "cell_type": "code",
   "execution_count": 22,
   "id": "67dcc16a",
   "metadata": {},
   "outputs": [
    {
     "name": "stdout",
     "output_type": "stream",
     "text": [
      "log_20250817_210740.log\n",
      "2025-08-17 21:07:40,629 - INFO - Configuration saved to results/shopping_qwen2.5-vl/config.json\n",
      "[('FAIL', 'mmina/shopping/1.json'), ('FAIL', 'mmina/shopping/2.json'), ('PASS', 'mmina/shopping/3.json'), ('FAIL', 'mmina/shopping/4.json')]\n",
      "log_20250817_154105.log\n",
      "2025-08-17 15:41:05,721 - INFO - Configuration saved to results/shopping_gpt-4o/config.json\n",
      "[('FAIL', 'mmina/shopping/1.json'), ('FAIL', 'mmina/shopping/2.json'), ('FAIL', 'mmina/shopping/3.json'), ('FAIL', 'mmina/shopping/4.json'), ('PASS', 'mmina/shopping/5.json'), ('FAIL', 'mmina/shopping/6.json'), ('PASS', 'mmina/shopping/7.json'), ('FAIL', 'mmina/shopping/8.json'), ('FAIL', 'mmina/shopping/9.json'), ('FAIL', 'mmina/shopping/10.json'), ('FAIL', 'mmina/shopping/11.json'), ('FAIL', 'mmina/shopping/12.json'), ('FAIL', 'mmina/shopping/13.json'), ('FAIL', 'mmina/shopping/14.json'), ('PASS', 'mmina/shopping/15.json'), ('PASS', 'mmina/shopping/16.json'), ('PASS', 'mmina/shopping/17.json'), ('PASS', 'mmina/shopping/18.json'), ('FAIL', 'mmina/shopping/19.json'), ('FAIL', 'mmina/shopping/20.json'), ('PASS', 'mmina/shopping/21.json'), ('FAIL', 'mmina/shopping/22.json'), ('FAIL', 'mmina/shopping/23.json'), ('FAIL', 'mmina/shopping/24.json'), ('FAIL', 'mmina/shopping/25.json'), ('PASS', 'mmina/shopping/26.json'), ('FAIL', 'mmina/shopping/27.json'), ('FAIL', 'mmina/shopping/28.json'), ('FAIL', 'mmina/shopping/29.json'), ('FAIL', 'mmina/shopping/30.json'), ('FAIL', 'mmina/shopping/31.json'), ('FAIL', 'mmina/shopping/32.json'), ('FAIL', 'mmina/shopping/33.json'), ('FAIL', 'mmina/shopping/34.json'), ('FAIL', 'mmina/shopping/35.json'), ('PASS', 'mmina/shopping/36.json'), ('FAIL', 'mmina/shopping/37.json'), ('PASS', 'mmina/shopping/38.json'), ('FAIL', 'mmina/shopping/39.json'), ('PASS', 'mmina/shopping/40.json'), ('FAIL', 'mmina/shopping/41.json')]\n",
      "log_20250817_210827.log\n",
      "2025-08-17 21:08:27,533 - INFO - Configuration saved to results/shopping_claude-3-5-sonnet-20240620/config.json\n",
      "[('FAIL', 'mmina/shopping/1.json'), ('FAIL', 'mmina/shopping/2.json'), ('FAIL', 'mmina/shopping/3.json')]\n",
      "log_20250811_042607.log\n",
      "2025-08-11 04:26:07,188 - INFO - Configuration saved to results/shopping_qwen2.5-vl/config.json\n",
      "[('FAIL', 'mmina/shopping/1.json'), ('FAIL', 'mmina/shopping/2.json'), ('FAIL', 'mmina/shopping/3.json'), ('FAIL', 'mmina/shopping/4.json'), ('FAIL', 'mmina/shopping/5.json'), ('PASS', 'mmina/shopping/6.json'), ('FAIL', 'mmina/shopping/7.json'), ('FAIL', 'mmina/shopping/8.json'), ('FAIL', 'mmina/shopping/9.json'), ('FAIL', 'mmina/shopping/10.json'), ('FAIL', 'mmina/shopping/11.json'), ('FAIL', 'mmina/shopping/12.json'), ('FAIL', 'mmina/shopping/13.json'), ('FAIL', 'mmina/shopping/14.json'), ('FAIL', 'mmina/shopping/15.json'), ('FAIL', 'mmina/shopping/16.json'), ('FAIL', 'mmina/shopping/17.json'), ('FAIL', 'mmina/shopping/18.json'), ('FAIL', 'mmina/shopping/19.json'), ('FAIL', 'mmina/shopping/20.json'), ('FAIL', 'mmina/shopping/21.json'), ('FAIL', 'mmina/shopping/22.json'), ('FAIL', 'mmina/shopping/23.json'), ('FAIL', 'mmina/shopping/24.json'), ('FAIL', 'mmina/shopping/25.json'), ('FAIL', 'mmina/shopping/26.json'), ('FAIL', 'mmina/shopping/27.json'), ('FAIL', 'mmina/shopping/28.json'), ('FAIL', 'mmina/shopping/29.json'), ('FAIL', 'mmina/shopping/30.json'), ('FAIL', 'mmina/shopping/31.json'), ('FAIL', 'mmina/shopping/32.json'), ('FAIL', 'mmina/shopping/33.json'), ('FAIL', 'mmina/shopping/34.json'), ('FAIL', 'mmina/shopping/35.json'), ('FAIL', 'mmina/shopping/36.json'), ('FAIL', 'mmina/shopping/37.json'), ('FAIL', 'mmina/shopping/38.json'), ('FAIL', 'mmina/shopping/39.json'), ('FAIL', 'mmina/shopping/40.json'), ('FAIL', 'mmina/shopping/41.json'), ('FAIL', 'mmina/shopping/42.json'), ('FAIL', 'mmina/shopping/43.json'), ('FAIL', 'mmina/shopping/44.json'), ('FAIL', 'mmina/shopping/45.json'), ('FAIL', 'mmina/shopping/46.json'), ('FAIL', 'mmina/shopping/47.json'), ('FAIL', 'mmina/shopping/48.json'), ('FAIL', 'mmina/shopping/49.json'), ('FAIL', 'mmina/shopping/50.json'), ('FAIL', 'mmina/shopping/51.json'), ('FAIL', 'mmina/shopping/52.json'), ('PASS', 'mmina/shopping/53.json'), ('FAIL', 'mmina/shopping/54.json'), ('FAIL', 'mmina/shopping/55.json'), ('FAIL', 'mmina/shopping/56.json'), ('PASS', 'mmina/shopping/57.json'), ('FAIL', 'mmina/shopping/58.json'), ('FAIL', 'mmina/shopping/59.json'), ('FAIL', 'mmina/shopping/60.json'), ('FAIL', 'mmina/shopping/61.json'), ('FAIL', 'mmina/shopping/62.json'), ('FAIL', 'mmina/shopping/63.json'), ('FAIL', 'mmina/shopping/64.json'), ('FAIL', 'mmina/shopping/65.json'), ('FAIL', 'mmina/shopping/66.json'), ('FAIL', 'mmina/shopping/67.json'), ('FAIL', 'mmina/shopping/68.json'), ('FAIL', 'mmina/shopping/69.json'), ('FAIL', 'mmina/shopping/70.json'), ('FAIL', 'mmina/shopping/71.json'), ('FAIL', 'mmina/shopping/72.json'), ('FAIL', 'mmina/shopping/73.json'), ('FAIL', 'mmina/shopping/74.json'), ('FAIL', 'mmina/shopping/75.json'), ('FAIL', 'mmina/shopping/76.json'), ('FAIL', 'mmina/shopping/77.json'), ('FAIL', 'mmina/shopping/78.json'), ('FAIL', 'mmina/shopping/79.json'), ('FAIL', 'mmina/shopping/80.json'), ('FAIL', 'mmina/shopping/81.json'), ('FAIL', 'mmina/shopping/82.json'), ('FAIL', 'mmina/shopping/83.json'), ('FAIL', 'mmina/shopping/84.json'), ('FAIL', 'mmina/shopping/85.json'), ('FAIL', 'mmina/shopping/86.json'), ('FAIL', 'mmina/shopping/87.json'), ('FAIL', 'mmina/shopping/88.json'), ('FAIL', 'mmina/shopping/89.json'), ('FAIL', 'mmina/shopping/90.json'), ('FAIL', 'mmina/shopping/91.json'), ('FAIL', 'mmina/shopping/92.json'), ('PASS', 'mmina/shopping/93.json'), ('FAIL', 'mmina/shopping/94.json'), ('FAIL', 'mmina/shopping/95.json'), ('FAIL', 'mmina/shopping/96.json'), ('FAIL', 'mmina/shopping/97.json'), ('FAIL', 'mmina/shopping/98.json'), ('FAIL', 'mmina/shopping/99.json'), ('FAIL', 'mmina/shopping/100.json'), ('FAIL', 'mmina/shopping/101.json'), ('FAIL', 'mmina/shopping/102.json'), ('PASS', 'mmina/shopping/103.json'), ('FAIL', 'mmina/shopping/104.json'), ('FAIL', 'mmina/shopping/105.json'), ('FAIL', 'mmina/shopping/106.json'), ('FAIL', 'mmina/shopping/107.json'), ('FAIL', 'mmina/shopping/108.json'), ('FAIL', 'mmina/shopping/109.json'), ('FAIL', 'mmina/shopping/110.json'), ('FAIL', 'mmina/shopping/111.json'), ('FAIL', 'mmina/shopping/112.json'), ('FAIL', 'mmina/shopping/113.json'), ('FAIL', 'mmina/shopping/114.json'), ('FAIL', 'mmina/shopping/115.json'), ('FAIL', 'mmina/shopping/116.json'), ('FAIL', 'mmina/shopping/117.json'), ('FAIL', 'mmina/shopping/118.json'), ('FAIL', 'mmina/shopping/119.json'), ('FAIL', 'mmina/shopping/120.json'), ('FAIL', 'mmina/shopping/121.json'), ('FAIL', 'mmina/shopping/122.json'), ('FAIL', 'mmina/shopping/123.json'), ('FAIL', 'mmina/shopping/124.json'), ('FAIL', 'mmina/shopping/125.json'), ('FAIL', 'mmina/shopping/126.json'), ('FAIL', 'mmina/shopping/127.json'), ('FAIL', 'mmina/shopping/128.json'), ('FAIL', 'mmina/shopping/129.json'), ('FAIL', 'mmina/shopping/130.json'), ('FAIL', 'mmina/shopping/131.json'), ('FAIL', 'mmina/shopping/132.json'), ('FAIL', 'mmina/shopping/133.json'), ('FAIL', 'mmina/shopping/134.json'), ('FAIL', 'mmina/shopping/135.json'), ('FAIL', 'mmina/shopping/136.json'), ('FAIL', 'mmina/shopping/137.json'), ('FAIL', 'mmina/shopping/138.json'), ('FAIL', 'mmina/shopping/139.json'), ('FAIL', 'mmina/shopping/140.json'), ('FAIL', 'mmina/shopping/141.json'), ('FAIL', 'mmina/shopping/142.json'), ('FAIL', 'mmina/shopping/143.json'), ('FAIL', 'mmina/shopping/144.json'), ('FAIL', 'mmina/shopping/145.json'), ('FAIL', 'mmina/shopping/146.json'), ('FAIL', 'mmina/shopping/147.json'), ('FAIL', 'mmina/shopping/148.json'), ('FAIL', 'mmina/shopping/149.json'), ('FAIL', 'mmina/shopping/150.json'), ('FAIL', 'mmina/shopping/151.json'), ('FAIL', 'mmina/shopping/152.json'), ('FAIL', 'mmina/shopping/153.json'), ('FAIL', 'mmina/shopping/154.json'), ('PASS', 'mmina/shopping/155.json'), ('PASS', 'mmina/shopping/156.json'), ('FAIL', 'mmina/shopping/157.json'), ('FAIL', 'mmina/shopping/158.json'), ('FAIL', 'mmina/shopping/159.json'), ('FAIL', 'mmina/shopping/160.json'), ('FAIL', 'mmina/shopping/161.json'), ('FAIL', 'mmina/shopping/162.json'), ('FAIL', 'mmina/shopping/163.json'), ('FAIL', 'mmina/shopping/164.json'), ('FAIL', 'mmina/shopping/165.json'), ('FAIL', 'mmina/shopping/166.json'), ('PASS', 'mmina/shopping/167.json'), ('FAIL', 'mmina/shopping/168.json'), ('FAIL', 'mmina/shopping/169.json'), ('FAIL', 'mmina/shopping/170.json'), ('FAIL', 'mmina/shopping/171.json'), ('FAIL', 'mmina/shopping/172.json'), ('FAIL', 'mmina/shopping/173.json'), ('FAIL', 'mmina/shopping/174.json'), ('FAIL', 'mmina/shopping/175.json'), ('FAIL', 'mmina/shopping/176.json'), ('FAIL', 'mmina/shopping/177.json'), ('FAIL', 'mmina/shopping/178.json'), ('FAIL', 'mmina/shopping/179.json'), ('FAIL', 'mmina/shopping/180.json'), ('FAIL', 'mmina/shopping/181.json'), ('FAIL', 'mmina/shopping/182.json'), ('FAIL', 'mmina/shopping/183.json'), ('FAIL', 'mmina/shopping/184.json'), ('PASS', 'mmina/shopping/185.json'), ('FAIL', 'mmina/shopping/186.json'), ('FAIL', 'mmina/shopping/187.json'), ('FAIL', 'mmina/shopping/188.json'), ('PASS', 'mmina/shopping/189.json'), ('FAIL', 'mmina/shopping/190.json'), ('FAIL', 'mmina/shopping/191.json'), ('PASS', 'mmina/shopping/192.json'), ('FAIL', 'mmina/shopping/193.json'), ('FAIL', 'mmina/shopping/194.json'), ('FAIL', 'mmina/shopping/195.json'), ('FAIL', 'mmina/shopping/196.json'), ('FAIL', 'mmina/shopping/197.json'), ('FAIL', 'mmina/shopping/198.json'), ('FAIL', 'mmina/shopping/199.json'), ('FAIL', 'mmina/shopping/200.json')]\n",
      "log_20250817_210632.log\n",
      "2025-08-17 21:06:32,799 - INFO - Configuration saved to results/shopping_gpt-4o/config.json\n",
      "[('PASS', 'mmina/shopping/5.json'), ('FAIL', 'mmina/shopping/6.json'), ('PASS', 'mmina/shopping/7.json'), ('FAIL', 'mmina/shopping/8.json'), ('FAIL', 'mmina/shopping/9.json'), ('FAIL', 'mmina/shopping/42.json')]\n"
     ]
    }
   ],
   "source": [
    "import os\n",
    "\n",
    "all_files = os.listdir(\"/lustre/scratch/users/guangyi.liu/agent/GUI-Agent/log_files\")\n",
    "\n",
    "for file in all_files:\n",
    "    with open(f\"/lustre/scratch/users/guangyi.liu/agent/GUI-Agent/log_files/{file}\", 'r') as f:\n",
    "        log_content = f.read()\n",
    "        first_line = log_content.split(\"\\n\")[0]\n",
    "    if 'shopping' in first_line:\n",
    "        print(file)\n",
    "        print(first_line)\n",
    "\n",
    "        results = re.findall(r\"\\[Result\\] \\((PASS|FAIL)\\) (.+?)$\", log_content, re.MULTILINE)\n",
    "\n",
    "        print(results)"
   ]
  },
  {
   "cell_type": "code",
   "execution_count": null,
   "id": "3ea54dcf",
   "metadata": {},
   "outputs": [],
   "source": []
  }
 ],
 "metadata": {
  "kernelspec": {
   "display_name": "llm",
   "language": "python",
   "name": "python3"
  },
  "language_info": {
   "codemirror_mode": {
    "name": "ipython",
    "version": 3
   },
   "file_extension": ".py",
   "mimetype": "text/x-python",
   "name": "python",
   "nbconvert_exporter": "python",
   "pygments_lexer": "ipython3",
   "version": "3.10.18"
  }
 },
 "nbformat": 4,
 "nbformat_minor": 5
}
